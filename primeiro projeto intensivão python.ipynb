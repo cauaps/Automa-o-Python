{
 "cells": [
  {
   "cell_type": "code",
   "execution_count": null,
   "metadata": {},
   "outputs": [],
   "source": [
    "Automação e processos em python"
   ]
  },
  {
   "cell_type": "code",
   "execution_count": 2,
   "metadata": {
    "scrolled": true
   },
   "outputs": [
    {
     "ename": "KeyboardInterrupt",
     "evalue": "",
     "output_type": "error",
     "traceback": [
      "\u001b[1;31m---------------------------------------------------------------------------\u001b[0m",
      "\u001b[1;31mKeyboardInterrupt\u001b[0m                         Traceback (most recent call last)",
      "\u001b[1;32m~\\AppData\\Local\\Temp\\ipykernel_4868\\2741182602.py\u001b[0m in \u001b[0;36m<module>\u001b[1;34m\u001b[0m\n\u001b[0;32m     27\u001b[0m \u001b[1;33m\u001b[0m\u001b[0m\n\u001b[0;32m     28\u001b[0m \u001b[0mpa\u001b[0m\u001b[1;33m.\u001b[0m\u001b[0mclick\u001b[0m\u001b[1;33m(\u001b[0m\u001b[0mx\u001b[0m\u001b[1;33m=\u001b[0m\u001b[1;36m816\u001b[0m\u001b[1;33m,\u001b[0m \u001b[0my\u001b[0m\u001b[1;33m=\u001b[0m\u001b[1;36m191\u001b[0m\u001b[1;33m)\u001b[0m\u001b[1;33m\u001b[0m\u001b[1;33m\u001b[0m\u001b[0m\n\u001b[1;32m---> 29\u001b[1;33m \u001b[0mtime\u001b[0m\u001b[1;33m.\u001b[0m\u001b[0msleep\u001b[0m\u001b[1;33m(\u001b[0m\u001b[1;36m3\u001b[0m\u001b[1;33m)\u001b[0m\u001b[1;33m\u001b[0m\u001b[1;33m\u001b[0m\u001b[0m\n\u001b[0m\u001b[0;32m     30\u001b[0m \u001b[0mpa\u001b[0m\u001b[1;33m.\u001b[0m\u001b[0mclick\u001b[0m\u001b[1;33m(\u001b[0m\u001b[0mx\u001b[0m\u001b[1;33m=\u001b[0m\u001b[1;36m622\u001b[0m\u001b[1;33m,\u001b[0m \u001b[0my\u001b[0m\u001b[1;33m=\u001b[0m\u001b[1;36m587\u001b[0m\u001b[1;33m)\u001b[0m\u001b[1;33m\u001b[0m\u001b[1;33m\u001b[0m\u001b[0m\n\u001b[0;32m     31\u001b[0m \u001b[0mtime\u001b[0m\u001b[1;33m.\u001b[0m\u001b[0msleep\u001b[0m\u001b[1;33m(\u001b[0m\u001b[1;36m5\u001b[0m\u001b[1;33m)\u001b[0m\u001b[1;33m\u001b[0m\u001b[1;33m\u001b[0m\u001b[0m\n",
      "\u001b[1;31mKeyboardInterrupt\u001b[0m: "
     ]
    }
   ],
   "source": [
    "#passo 1: entrar no sistema(link do drive)\n",
    "\n",
    "import pyautogui as pa\n",
    "import pyperclip\n",
    "import time\n",
    "\n",
    "pa.pause = 2\n",
    "\n",
    "pa.hotkey('ctrl', 't')\n",
    "time.sleep(2)\n",
    "pyperclip.copy(\"https://drive.google.com/drive/folders/149xknr9JvrlEnhNWO49zPcw0PW5icxga?usp=sharing\")\n",
    "time.sleep(2)\n",
    "pa.hotkey('ctrl', 'v')\n",
    "time.sleep(2)\n",
    "pa.press('enter')\n",
    "\n",
    "time.sleep(5)\n",
    "#passo 2: navegar até o local do relatorio\n",
    "\n",
    "pa.click(x=339, y=292, clicks = 2)\n",
    "time.sleep(3)\n",
    "pa.press('enter')\n",
    "\n",
    "#passo 3: exportar o relatorio(fazer o download)\n",
    "pa.click(x=398, y=407)\n",
    "time.sleep(3)\n",
    "\n",
    "pa.click(x=816, y=191)\n",
    "time.sleep(3)\n",
    "pa.click(x=622, y=587)\n",
    "time.sleep(5)\n",
    "\n",
    "#passo 4: calcular os indicadores\n",
    "import pandas\n",
    "\n",
    "tabela = pandas.read_excel(r'C:\\Users\\55349\\Downloads\\Vendas - Dez.xlsx')\n",
    "display(tabela)\n",
    "\n",
    "faturamento = tabela[\"Valor Final\"].sum()\n",
    "quantidade = tabela[\"Quantidade\"].sum()\n",
    "\n",
    "print (faturamento)\n",
    "print (quantidade)\n",
    "\n",
    "time.sleep(5)\n",
    "\n",
    "#passo 5: enviar um email para a diretoria\n",
    "\n",
    "pa.hotkey('ctrl', 't')\n",
    "pyperclip.copy('https://mail.google.com/mail/u/0/#inbox')\n",
    "pa.hotkey('ctrl', 'v')\n",
    "pa.press('enter')\n",
    "\n",
    "time.sleep(5)\n",
    "pa.click(x=101, y=196)\n",
    "time.sleep(4)\n",
    "\n",
    "#destinatário\n",
    "pa.write('0000895254@senaimgaluno.com.br')\n",
    "pa.press('enter')\n",
    "pa.press('tab')\n",
    "\n",
    "time.sleep(1)\n",
    "\n",
    "#assunto\n",
    "pyperclip.copy('Relatório de vendas')\n",
    "pa.hotkey('ctrl', 'v')\n",
    "pa.press('tab')\n",
    "\n",
    "#corpo\n",
    "texto = f''' Prezados, bom dia\n",
    "\n",
    " O faturamento de ontem foi de: R${faturamento:,.2f}\n",
    " A quantidade de produtos foi de: {quantidade:,}\n",
    "       \n",
    "       Abs, Cauã'''\n",
    "\n",
    "pyperclip.copy(texto)\n",
    "pa.hotkey('ctrl', 'v')\n",
    "\n",
    "#enviar o email\n",
    "pa.hotkey('ctrl', 'enter')"
   ]
  },
  {
   "cell_type": "code",
   "execution_count": null,
   "metadata": {},
   "outputs": [],
   "source": [
    "!pip install pyautogui"
   ]
  },
  {
   "cell_type": "code",
   "execution_count": null,
   "metadata": {},
   "outputs": [],
   "source": [
    "time.sleep(5)\n",
    "pa.position()"
   ]
  },
  {
   "cell_type": "markdown",
   "metadata": {},
   "source": [
    "- Lembre-se: a posição na sua tela é diferente da posição na minha tela"
   ]
  }
 ],
 "metadata": {
  "kernelspec": {
   "display_name": "Python 3 (ipykernel)",
   "language": "python",
   "name": "python3"
  },
  "language_info": {
   "codemirror_mode": {
    "name": "ipython",
    "version": 3
   },
   "file_extension": ".py",
   "mimetype": "text/x-python",
   "name": "python",
   "nbconvert_exporter": "python",
   "pygments_lexer": "ipython3",
   "version": "3.9.13"
  }
 },
 "nbformat": 4,
 "nbformat_minor": 4
}
